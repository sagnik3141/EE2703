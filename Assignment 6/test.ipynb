{
 "cells": [
  {
   "cell_type": "code",
   "execution_count": 1,
   "metadata": {},
   "outputs": [],
   "source": [
    "import numpy as np\n",
    "import matplotlib.pyplot as plt"
   ]
  },
  {
   "cell_type": "code",
   "execution_count": 10,
   "metadata": {},
   "outputs": [],
   "source": [
    "n = 100\n",
    "M = 5\n",
    "nk = 500\n",
    "u0 = 5\n",
    "p = 0.25\n",
    "Msig = 1"
   ]
  },
  {
   "cell_type": "code",
   "execution_count": 3,
   "metadata": {},
   "outputs": [],
   "source": [
    "xx = np.zeros(n*M)\n",
    "u = np.zeros(n*M)\n",
    "dx = np.zeros(n*M)\n",
    "I = []\n",
    "X = []\n",
    "V = []"
   ]
  },
  {
   "cell_type": "code",
   "execution_count": 5,
   "metadata": {},
   "outputs": [],
   "source": [
    "ii = np.where(xx>0)[0]\n",
    "dx[ii] = u[ii] + 0.5\n",
    "xx[ii] = xx[ii] + dx[ii]\n",
    "u[ii] = u[ii] + 1"
   ]
  },
  {
   "cell_type": "code",
   "execution_count": 6,
   "metadata": {},
   "outputs": [],
   "source": [
    "reached_anode = np.where(xx > n)[0]\n",
    "xx[reached_anode] = 0\n",
    "u[reached_anode] = 0\n",
    "dx[reached_anode] = 0"
   ]
  },
  {
   "cell_type": "code",
   "execution_count": 7,
   "metadata": {},
   "outputs": [],
   "source": [
    "kk = np.where(u>u0)[0]\n",
    "ll = np.where(np.random.randn(len(kk))<=p)[0]\n",
    "kl = kk[ll]"
   ]
  },
  {
   "cell_type": "code",
   "execution_count": 8,
   "metadata": {},
   "outputs": [],
   "source": [
    "u[kl] = 0\n",
    "xx[kl] = xx[kl] - dx[kl]*np.random.rand()"
   ]
  },
  {
   "cell_type": "code",
   "execution_count": 9,
   "metadata": {},
   "outputs": [],
   "source": [
    "I.extend(xx[kl].tolist())"
   ]
  },
  {
   "cell_type": "code",
   "execution_count": 11,
   "metadata": {},
   "outputs": [],
   "source": [
    "m = int(np.random.randn()*Msig+M)"
   ]
  },
  {
   "cell_type": "code",
   "execution_count": 12,
   "metadata": {},
   "outputs": [],
   "source": [
    "free_slots = np.where(xx==0)[0]"
   ]
  },
  {
   "cell_type": "code",
   "execution_count": 13,
   "metadata": {},
   "outputs": [],
   "source": [
    "if len(free_slots)>=m:\n",
    "    xx[free_slots[np.random.randint(len(free_slots)):np.random.randint(len(free_slots))+m]] = 1\n",
    "    u[free_slots[np.random.randint(len(free_slots)):np.random.randint(len(free_slots))+m]] = 0\n",
    "else:\n",
    "    xx[free_slots] = 1\n",
    "    u[free_slots] = 0"
   ]
  },
  {
   "cell_type": "code",
   "execution_count": 15,
   "metadata": {},
   "outputs": [],
   "source": [
    "remaining_electrons = np.where(xx>0)[0]\n",
    "X.extend(xx[remaining_electrons].tolist())\n",
    "V.extend(u[remaining_electrons].tolist())"
   ]
  },
  {
   "cell_type": "code",
   "execution_count": null,
   "metadata": {},
   "outputs": [],
   "source": []
  }
 ],
 "metadata": {
  "kernelspec": {
   "display_name": "Python 3",
   "language": "python",
   "name": "python3"
  },
  "language_info": {
   "codemirror_mode": {
    "name": "ipython",
    "version": 3
   },
   "file_extension": ".py",
   "mimetype": "text/x-python",
   "name": "python",
   "nbconvert_exporter": "python",
   "pygments_lexer": "ipython3",
   "version": "3.8.3"
  }
 },
 "nbformat": 4,
 "nbformat_minor": 4
}
